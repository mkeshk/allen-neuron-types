{
 "cells": [
  {
   "cell_type": "code",
   "execution_count": 3,
   "metadata": {},
   "outputs": [
    {
     "data": {
      "text/plain": [
       "Index(['id', 'name', 'size', 'type', 'layer (enriched)', 'tree order',\n",
       "       'level1', 'level2', 'level3'],\n",
       "      dtype='object')"
      ]
     },
     "execution_count": 3,
     "metadata": {},
     "output_type": "execute_result"
    }
   ],
   "source": [
    "import pandas as pd\n",
    "\n",
    "clusters = pd.read_csv(\"cluster_annotation.tsv\", \"\\t\")\n",
    "clusters.columns\n"
   ]
  },
  {
   "cell_type": "code",
   "execution_count": 4,
   "metadata": {},
   "outputs": [
    {
     "data": {
      "text/html": [
       "<div>\n",
       "<style scoped>\n",
       "    .dataframe tbody tr th:only-of-type {\n",
       "        vertical-align: middle;\n",
       "    }\n",
       "\n",
       "    .dataframe tbody tr th {\n",
       "        vertical-align: top;\n",
       "    }\n",
       "\n",
       "    .dataframe thead th {\n",
       "        text-align: right;\n",
       "    }\n",
       "</style>\n",
       "<table border=\"1\" class=\"dataframe\">\n",
       "  <thead>\n",
       "    <tr style=\"text-align: right;\">\n",
       "      <th></th>\n",
       "      <th>id</th>\n",
       "      <th>name</th>\n",
       "      <th>size</th>\n",
       "      <th>type</th>\n",
       "      <th>layer (enriched)</th>\n",
       "      <th>tree order</th>\n",
       "      <th>level1</th>\n",
       "      <th>level2</th>\n",
       "      <th>level3</th>\n",
       "    </tr>\n",
       "  </thead>\n",
       "  <tbody>\n",
       "    <tr>\n",
       "      <th>0</th>\n",
       "      <td>14</td>\n",
       "      <td>cl14_i90_GRPR_Ndnf.Cxcl14_L1.4</td>\n",
       "      <td>90.0</td>\n",
       "      <td>inh</td>\n",
       "      <td>1</td>\n",
       "      <td>1.0</td>\n",
       "      <td>CL_0000540</td>\n",
       "      <td>CL_0000617</td>\n",
       "      <td>pcl_1001</td>\n",
       "    </tr>\n",
       "    <tr>\n",
       "      <th>1</th>\n",
       "      <td>46</td>\n",
       "      <td>cl46_i16_DKFZp686K1684_Ndnf.Cxcl14_L2.0</td>\n",
       "      <td>16.0</td>\n",
       "      <td>inh</td>\n",
       "      <td>2</td>\n",
       "      <td>2.0</td>\n",
       "      <td>CL_0000540</td>\n",
       "      <td>CL_0000617</td>\n",
       "      <td>pcl_1001</td>\n",
       "    </tr>\n",
       "    <tr>\n",
       "      <th>2</th>\n",
       "      <td>3</td>\n",
       "      <td>cl3_i283_NMBR_Ndnf.Car4_L1.3</td>\n",
       "      <td>283.0</td>\n",
       "      <td>inh</td>\n",
       "      <td>1</td>\n",
       "      <td>3.0</td>\n",
       "      <td>CL_0000540</td>\n",
       "      <td>CL_0000617</td>\n",
       "      <td>pcl_1001</td>\n",
       "    </tr>\n",
       "  </tbody>\n",
       "</table>\n",
       "</div>"
      ],
      "text/plain": [
       "   id                                     name   size type layer (enriched)  \\\n",
       "0  14           cl14_i90_GRPR_Ndnf.Cxcl14_L1.4   90.0  inh                1   \n",
       "1  46  cl46_i16_DKFZp686K1684_Ndnf.Cxcl14_L2.0   16.0  inh                2   \n",
       "2   3             cl3_i283_NMBR_Ndnf.Car4_L1.3  283.0  inh                1   \n",
       "\n",
       "   tree order      level1      level2    level3  \n",
       "0         1.0  CL_0000540  CL_0000617  pcl_1001  \n",
       "1         2.0  CL_0000540  CL_0000617  pcl_1001  \n",
       "2         3.0  CL_0000540  CL_0000617  pcl_1001  "
      ]
     },
     "execution_count": 4,
     "metadata": {},
     "output_type": "execute_result"
    }
   ],
   "source": [
    "clusters[0:3]"
   ]
  },
  {
   "cell_type": "code",
   "execution_count": null,
   "metadata": {},
   "outputs": [],
   "source": []
  }
 ],
 "metadata": {
  "kernelspec": {
   "display_name": "Python 3",
   "language": "python",
   "name": "python3"
  },
  "language_info": {
   "codemirror_mode": {
    "name": "ipython",
    "version": 3
   },
   "file_extension": ".py",
   "mimetype": "text/x-python",
   "name": "python",
   "nbconvert_exporter": "python",
   "pygments_lexer": "ipython3",
   "version": "3.6.2"
  }
 },
 "nbformat": 4,
 "nbformat_minor": 2
}
