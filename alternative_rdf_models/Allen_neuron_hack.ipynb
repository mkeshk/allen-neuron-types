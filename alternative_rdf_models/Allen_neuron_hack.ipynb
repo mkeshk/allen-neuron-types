{
 "cells": [
  {
   "cell_type": "code",
   "execution_count": 1,
   "metadata": {},
   "outputs": [
    {
     "data": {
      "text/plain": [
       "{'id': 'http://www.jcvi.org/cl_ext/mtg_cluster#pcl_62',\n",
       " 'meta': {'basicPropertyValues': [{'pred': 'http://www.jcvi.org/cl_ext/mtg_cluster_schema#id',\n",
       "    'val': '62'},\n",
       "   {'pred': 'http://www.w3.org/2004/02/skos/core#broader',\n",
       "    'val': 'http://purl.obolibrary.org/obo/cl#CL_0000679'},\n",
       "   {'pred': 'http://www.jcvi.org/cl_ext/mtg_cluster_schema#level1',\n",
       "    'val': 'http://purl.obolibrary.org/obo/cl#CL_0000540'},\n",
       "   {'pred': 'http://www.jcvi.org/cl_ext/mtg_cluster_schema#selectively_expresses',\n",
       "    'val': 'HGNC_12479'},\n",
       "   {'pred': 'http://www.jcvi.org/cl_ext/mtg_cluster_schema#type',\n",
       "    'val': 'exc'},\n",
       "   {'pred': 'http://www.jcvi.org/cl_ext/mtg_cluster_schema#name',\n",
       "    'val': 'cl62_e153_UBE2E3_L5a.Deptor_Pacsin2_L3.7'},\n",
       "   {'pred': 'http://www.jcvi.org/cl_ext/mtg_cluster_schema#size',\n",
       "    'val': '153'},\n",
       "   {'pred': 'http://www.jcvi.org/cl_ext/mtg_cluster_schema#layer_enriched',\n",
       "    'val': '4'},\n",
       "   {'pred': 'http://www.jcvi.org/cl_ext/mtg_cluster_schema#level2',\n",
       "    'val': 'http://purl.obolibrary.org/obo/cl#CL_0000679'},\n",
       "   {'pred': 'http://www.jcvi.org/cl_ext/mtg_cluster_schema#tree_order',\n",
       "    'val': '51'}]}}"
      ]
     },
     "execution_count": 1,
     "metadata": {},
     "output_type": "execute_result"
    }
   ],
   "source": [
    "import json\n",
    "\n",
    "cfile = open(\"./mtg_cluster.json\", 'r')\n",
    "cj = json.loads(cfile.read())\n",
    "clusters = cj['graphs'][0]\n",
    "\n",
    "cell_file = open(\"/repos/cell-ontology/cl.json\")\n",
    "cell_j = json.loads(cell_file.read())\n",
    "CL = cell_j['graphs'][0]\n",
    "clusters['nodes'][0]\n",
    "\n",
    "#def convert_cl_id():\n",
    "    \n"
   ]
  },
  {
   "cell_type": "code",
   "execution_count": 2,
   "metadata": {},
   "outputs": [
    {
     "data": {
      "text/plain": [
       "{('', ''),\n",
       " ('http://purl.obolibrary.org/obo/cl#CL_0000115',\n",
       "  'http://purl.obolibrary.org/obo/cl#CL_1001602'),\n",
       " ('http://purl.obolibrary.org/obo/cl#CL_0000125',\n",
       "  'http://purl.obolibrary.org/obo/cl#CL_0000128'),\n",
       " ('http://purl.obolibrary.org/obo/cl#CL_0000125',\n",
       "  'http://purl.obolibrary.org/obo/cl#CL_0000129'),\n",
       " ('http://purl.obolibrary.org/obo/cl#CL_0000125',\n",
       "  'http://purl.obolibrary.org/obo/cl#CL_0002453'),\n",
       " ('http://purl.obolibrary.org/obo/cl#CL_0000125',\n",
       "  'http://purl.obolibrary.org/obo/cl#CL_0002605'),\n",
       " ('http://purl.obolibrary.org/obo/cl#CL_0000540',\n",
       "  'http://purl.obolibrary.org/obo/cl#CL_0000617'),\n",
       " ('http://purl.obolibrary.org/obo/cl#CL_0000540',\n",
       "  'http://purl.obolibrary.org/obo/cl#CL_0000679')}"
      ]
     },
     "execution_count": 2,
     "metadata": {},
     "output_type": "execute_result"
    }
   ],
   "source": [
    "unique_CL_pairs = set()\n",
    "unique_CL_terms = set()\n",
    "unique_layers = set()\n",
    "for n in clusters['nodes']:\n",
    "    if 'meta' in n.keys():\n",
    "        if 'basicPropertyValues' in n['meta'].keys():\n",
    "            l1 = ''\n",
    "            l2 = ''\n",
    "            for ax in n['meta']['basicPropertyValues']:\n",
    "                if ax['pred'] == 'http://www.jcvi.org/cl_ext/mtg_cluster_schema#layer_enriched':\n",
    "                    unique_layers.add(ax['val'])\n",
    "                if ax['pred'] == 'http://www.jcvi.org/cl_ext/mtg_cluster_schema#level1':\n",
    "                    l1 = ax['val']\n",
    "                    unique_CL_terms.add(l1)\n",
    "                if ax['pred'] == 'http://www.jcvi.org/cl_ext/mtg_cluster_schema#level2':\n",
    "                    l2 = ax['val']\n",
    "                    unique_CL_terms.add(l2)\n",
    "            unique_CL_pairs.add(tuple([l1,l2]))\n",
    "unique_CL_pairs"
   ]
  },
  {
   "cell_type": "code",
   "execution_count": 3,
   "metadata": {},
   "outputs": [
    {
     "data": {
      "text/plain": [
       "{'http://purl.obolibrary.org/obo/cl#CL_0000115': {'iri': 'http://purl.obolibrary.org/obo/CL_0000115',\n",
       "  'label': 'endothelial cell'},\n",
       " 'http://purl.obolibrary.org/obo/cl#CL_0000125': {'iri': 'http://purl.obolibrary.org/obo/CL_0000125',\n",
       "  'label': 'glial cell'},\n",
       " 'http://purl.obolibrary.org/obo/cl#CL_0000128': {'iri': 'http://purl.obolibrary.org/obo/CL_0000128',\n",
       "  'label': 'oligodendrocyte'},\n",
       " 'http://purl.obolibrary.org/obo/cl#CL_0000129': {'iri': 'http://purl.obolibrary.org/obo/CL_0000129',\n",
       "  'label': 'microglial cell'},\n",
       " 'http://purl.obolibrary.org/obo/cl#CL_0000540': {'iri': 'http://purl.obolibrary.org/obo/CL_0000540',\n",
       "  'label': 'neuron'},\n",
       " 'http://purl.obolibrary.org/obo/cl#CL_0000617': {'iri': 'http://purl.obolibrary.org/obo/CL_0000617',\n",
       "  'label': 'GABAergic neuron'},\n",
       " 'http://purl.obolibrary.org/obo/cl#CL_0000679': {'iri': 'http://purl.obolibrary.org/obo/CL_0000679',\n",
       "  'label': 'glutamatergic neuron'},\n",
       " 'http://purl.obolibrary.org/obo/cl#CL_0002453': {'iri': 'http://purl.obolibrary.org/obo/CL_0002453',\n",
       "  'label': 'oligodendrocyte precursor cell'},\n",
       " 'http://purl.obolibrary.org/obo/cl#CL_0002605': {'iri': 'http://purl.obolibrary.org/obo/CL_0002605',\n",
       "  'label': 'astrocyte of the cerebral cortex'},\n",
       " 'http://purl.obolibrary.org/obo/cl#CL_1001602': {'iri': 'http://purl.obolibrary.org/obo/CL_1001602',\n",
       "  'label': 'cerebral cortex endothelial cell'}}"
      ]
     },
     "execution_count": 3,
     "metadata": {},
     "output_type": "execute_result"
    }
   ],
   "source": [
    "import re\n",
    "cl_lookup = {}       \n",
    "for c in unique_CL_terms:\n",
    "    iri = re.sub('cl#', '', c)\n",
    "    labels = [n['lbl'] for n in CL['nodes'] if n['id'] == iri]\n",
    "    cl_lookup[c] = { 'iri': iri, 'label': labels[0]}\n",
    "\n",
    "cl_lookup\n",
    "    \n",
    "    "
   ]
  },
  {
   "cell_type": "markdown",
   "metadata": {},
   "source": []
  },
  {
   "cell_type": "code",
   "execution_count": 4,
   "metadata": {},
   "outputs": [
    {
     "data": {
      "text/plain": [
       "[{'l1': {'iri': 'http://purl.obolibrary.org/obo/CL_0000125',\n",
       "   'label': 'glial cell'},\n",
       "  'l2': {'iri': 'http://purl.obolibrary.org/obo/CL_0002605',\n",
       "   'label': 'astrocyte of the cerebral cortex'}},\n",
       " {'l1': {'iri': 'http://purl.obolibrary.org/obo/CL_0000540',\n",
       "   'label': 'neuron'},\n",
       "  'l2': {'iri': 'http://purl.obolibrary.org/obo/CL_0000617',\n",
       "   'label': 'GABAergic neuron'}},\n",
       " {'l1': {'iri': 'http://purl.obolibrary.org/obo/CL_0000115',\n",
       "   'label': 'endothelial cell'},\n",
       "  'l2': {'iri': 'http://purl.obolibrary.org/obo/CL_1001602',\n",
       "   'label': 'cerebral cortex endothelial cell'}},\n",
       " {'l1': {'iri': 'http://purl.obolibrary.org/obo/CL_0000125',\n",
       "   'label': 'glial cell'},\n",
       "  'l2': {'iri': 'http://purl.obolibrary.org/obo/CL_0000129',\n",
       "   'label': 'microglial cell'}},\n",
       " {'l1': {'iri': 'http://purl.obolibrary.org/obo/CL_0000125',\n",
       "   'label': 'glial cell'},\n",
       "  'l2': {'iri': 'http://purl.obolibrary.org/obo/CL_0002453',\n",
       "   'label': 'oligodendrocyte precursor cell'}},\n",
       " {'l1': {'iri': 'http://purl.obolibrary.org/obo/CL_0000125',\n",
       "   'label': 'glial cell'},\n",
       "  'l2': {'iri': 'http://purl.obolibrary.org/obo/CL_0000128',\n",
       "   'label': 'oligodendrocyte'}},\n",
       " {'l1': {'iri': 'http://purl.obolibrary.org/obo/CL_0000540',\n",
       "   'label': 'neuron'},\n",
       "  'l2': {'iri': 'http://purl.obolibrary.org/obo/CL_0000679',\n",
       "   'label': 'glutamatergic neuron'}}]"
      ]
     },
     "execution_count": 4,
     "metadata": {},
     "output_type": "execute_result"
    }
   ],
   "source": [
    "cl_pair_lookup = []\n",
    "for p in unique_CL_pairs:\n",
    "    if (p[0] and p[1]):\n",
    "        cl_pair_lookup.append({ 'l1': cl_lookup[p[0]], 'l2': cl_lookup[p[1]]})\n",
    "cl_pair_lookup"
   ]
  },
  {
   "cell_type": "markdown",
   "metadata": {},
   "source": [
    "L2 to use directly: oligodendrocyte, oligodendrocyte precursor cell, microglial cell\n",
    "L2 to break down: \n",
    "   - astrocyte of cerebral cortex -> astrocyte # rely on reasoning over partonomy to locate\n",
    "   - cerebral cortex endothelial cell -> endothelial cell  rely on reasoning over partonomy to locate\n",
    "   - GABAergic neuron -> capable_of GO... + \n",
    "   - glutamatergic neuron -> capable_of GO...\n",
    "\n"
   ]
  },
  {
   "cell_type": "code",
   "execution_count": 21,
   "metadata": {},
   "outputs": [],
   "source": [
    "def level_convert(lookup, v):\n",
    "    out = {}\n",
    "    cell = lookup[v]\n",
    "    if cell['label'] in ['oligodendrocyte', \n",
    "                        'oligodendrocyte precursor cell', \n",
    "                        'microglial cell']:\n",
    "        out['Genus'] = cell['iri']\n",
    "    if cell['label'] == 'astrocyte of cerebral cortex':\n",
    "        out['Genus'] = 'CL:0000127' # astrocyte\n",
    "    if cell['label'] == 'cerebral cortex endothelial cell':\n",
    "        out['Genus'] = 'CL:0000115'\n",
    "    if cell['label'] == 'glutamatergic neuron':\n",
    "        out['Genus'] = 'CL:0000540'\n",
    "        out['NT'] = 'GO:0061535'\n",
    "    if cell['label'] == 'GABAergic neuron':\n",
    "        out['Genus'] = 'CL:0000540'\n",
    "        out['NT'] = 'GO:0061534'\n",
    "    return out\n",
    "\n",
    "    "
   ]
  },
  {
   "cell_type": "code",
   "execution_count": 15,
   "metadata": {},
   "outputs": [
    {
     "data": {
      "text/plain": [
       "{'1', '2', '3a', '3b', '4', '5a', '5b', '6a', '6b'}"
      ]
     },
     "execution_count": 15,
     "metadata": {},
     "output_type": "execute_result"
    }
   ],
   "source": [
    "unique_layers"
   ]
  },
  {
   "cell_type": "code",
   "execution_count": 6,
   "metadata": {},
   "outputs": [],
   "source": [
    "layer_lookup = {\n",
    "             '1' : 'UBERON:0005390', \n",
    "             '2' : 'UBERON:0005391', \n",
    "             '3a': 'UBERON:0005392', \n",
    "             '3b': 'UBERON:0005392', \n",
    "             '4' : 'UBERON:0005393', \n",
    "             '5a': 'UBERON:0005394', \n",
    "             '5b': 'UBERON:0005394', \n",
    "             '6a': 'UBERON:0005395', \n",
    "             '6b': 'UBERON:0005395'\n",
    "            }"
   ]
  },
  {
   "cell_type": "code",
   "execution_count": 19,
   "metadata": {},
   "outputs": [
    {
     "data": {
      "text/html": [
       "<div>\n",
       "<style scoped>\n",
       "    .dataframe tbody tr th:only-of-type {\n",
       "        vertical-align: middle;\n",
       "    }\n",
       "\n",
       "    .dataframe tbody tr th {\n",
       "        vertical-align: top;\n",
       "    }\n",
       "\n",
       "    .dataframe thead th {\n",
       "        text-align: right;\n",
       "    }\n",
       "</style>\n",
       "<table border=\"1\" class=\"dataframe\">\n",
       "  <thead>\n",
       "    <tr style=\"text-align: right;\">\n",
       "      <th></th>\n",
       "      <th>CLASS_TYPE</th>\n",
       "      <th>Genus</th>\n",
       "      <th>ID</th>\n",
       "      <th>Marker1</th>\n",
       "      <th>Marker2</th>\n",
       "      <th>Marker3</th>\n",
       "      <th>Marker4</th>\n",
       "      <th>NT</th>\n",
       "      <th>label</th>\n",
       "      <th>layer</th>\n",
       "    </tr>\n",
       "  </thead>\n",
       "  <tbody>\n",
       "    <tr>\n",
       "      <th>0</th>\n",
       "      <td>CLASS_TYPE</td>\n",
       "      <td>C %</td>\n",
       "      <td>ID</td>\n",
       "      <td>C expresses some %</td>\n",
       "      <td>C expresses some %</td>\n",
       "      <td>C expresses some %</td>\n",
       "      <td>C expresses some %</td>\n",
       "      <td>C 'capable of' some %</td>\n",
       "      <td>A rdfs:label</td>\n",
       "      <td>C 'has soma location' some %</td>\n",
       "    </tr>\n",
       "  </tbody>\n",
       "</table>\n",
       "</div>"
      ],
      "text/plain": [
       "   CLASS_TYPE Genus  ID             Marker1             Marker2  \\\n",
       "0  CLASS_TYPE   C %  ID  C expresses some %  C expresses some %   \n",
       "\n",
       "              Marker3             Marker4                     NT  \\\n",
       "0  C expresses some %  C expresses some %  C 'capable of' some %   \n",
       "\n",
       "          label                         layer  \n",
       "0  A rdfs:label  C 'has soma location' some %  "
      ]
     },
     "execution_count": 19,
     "metadata": {},
     "output_type": "execute_result"
    }
   ],
   "source": [
    "import pandas as pd\n",
    "table_seed = [ {'ID': 'ID', 'CLASS_TYPE': 'CLASS_TYPE', \n",
    "                'label': 'A rdfs:label', 'Genus': 'C %', \n",
    "                'layer': \"C 'has soma location' some %\", \n",
    "                'NT': \"C 'capable of' some %\",\n",
    "                'Marker1': \"C expresses some %\",\n",
    "                'Marker2': \"C expresses some %\",\n",
    "                'Marker3': \"C expresses some %\",\n",
    "                'Marker4': \"C expresses some %\",\n",
    "               }]  # add in some part of tags\n",
    "\n",
    "df = pd.DataFrame.from_records(table_seed)\n",
    "df"
   ]
  },
  {
   "cell_type": "code",
   "execution_count": 22,
   "metadata": {},
   "outputs": [],
   "source": [
    "dl = []\n",
    "for n in clusters['nodes']:\n",
    "    d = { x : '' for x in df.columns }\n",
    "    d['CLASS_TYPE'] = 'subclass'\n",
    "    d['ID']=n['id']\n",
    "    markers = []\n",
    "    if 'meta' in n.keys():\n",
    "        if 'basicPropertyValues' in n['meta'].keys():\n",
    "            for ax in n['meta']['basicPropertyValues']:\n",
    "                if ax['pred'] == 'http://www.jcvi.org/cl_ext/mtg_cluster_schema#name':\n",
    "                    d['label'] =  ax['val']\n",
    "                if ax['pred'] == 'http://www.jcvi.org/cl_ext/mtg_cluster_schema#level2':\n",
    "                    #print(ax['val'])\n",
    "                    level_d = level_convert(cl_lookup, ax['val'])\n",
    "                    d.update(level_d)\n",
    "                if ax['pred'] == 'http://www.jcvi.org/cl_ext/mtg_cluster_schema#layer_enriched':\n",
    "                    d['layer'] = layer_lookup[ax['val']]\n",
    "                if ax['pred'] == 'http://www.jcvi.org/cl_ext/mtg_cluster_schema#selectively_expresses':\n",
    "                    markers.append(ax['val'])\n",
    "    i = 1\n",
    "    for m in markers:\n",
    "        d['Marker' + str(i)] = re.sub('_', ':', m)\n",
    "        i += 1\n",
    "    dl.append(d)\n",
    "\n",
    "robot_template = df.append(pd.DataFrame.from_records(dl))\n",
    "\n",
    "robot_template.to_csv('clusters_template_subclass.tsv', sep='\\t', index=False)\n",
    "\n",
    "\n",
    "    "
   ]
  },
  {
   "cell_type": "markdown",
   "metadata": {},
   "source": [
    "### Notes on further work\n",
    "\n",
    "Before adding equivalent Class axioms, we need missing info - part relationships to Uberon + all markers.\n",
    "\n",
    "Even before this is in place, a test version (subclassof axioms only) with an importer could help to show what we can do with inference.  Worth testing with some \n",
    "\n",
    "#### Future ontology work \n",
    "\n",
    "* Improvements to CL\n",
    "  * move part relationships to has_soma_location for most neurons\n",
    "  * Check axiomatization/patterns for \n",
    "  * Merge branch edits \n",
    "  * General spring cleaning CL repo needed:\n",
    "    - move editor's file to functional syntax.\n",
    "    - Track down axioms causing weirdness for Protege?\n",
    "    - Check tests & import system is up-to-date.\n",
    "\n",
    "* Uberon\n",
    "  * Intersectional partonomy cortical layers -> regions.\n",
    "  * New human brain anatomy from Allen to map."
   ]
  },
  {
   "cell_type": "code",
   "execution_count": 25,
   "metadata": {},
   "outputs": [
    {
     "data": {
      "text/plain": [
       "[{'id': 'http://www.jcvi.org/cl_ext/mtg_cluster#pcl_85',\n",
       "  'meta': {'basicPropertyValues': [{'pred': 'http://www.jcvi.org/cl_ext/mtg_cluster_schema#selectively_expresses',\n",
       "     'val': 'HGNC_4235'},\n",
       "    {'pred': 'http://www.w3.org/2004/02/skos/core#broader',\n",
       "     'val': 'http://purl.obolibrary.org/obo/cl#CL_0002605'},\n",
       "    {'pred': 'http://www.jcvi.org/cl_ext/mtg_cluster_schema#name',\n",
       "     'val': 'cl85_g61_GFAP_Astro.Gja1_L1.9'},\n",
       "    {'pred': 'http://www.jcvi.org/cl_ext/mtg_cluster_schema#level2',\n",
       "     'val': 'http://purl.obolibrary.org/obo/cl#CL_0002605'},\n",
       "    {'pred': 'http://www.jcvi.org/cl_ext/mtg_cluster_schema#tree_order',\n",
       "     'val': '71'},\n",
       "    {'pred': 'http://www.jcvi.org/cl_ext/mtg_cluster_schema#layer_enriched',\n",
       "     'val': '2'},\n",
       "    {'pred': 'http://www.jcvi.org/cl_ext/mtg_cluster_schema#id', 'val': '85'},\n",
       "    {'pred': 'http://www.jcvi.org/cl_ext/mtg_cluster_schema#type',\n",
       "     'val': 'glia'},\n",
       "    {'pred': 'http://www.jcvi.org/cl_ext/mtg_cluster_schema#size',\n",
       "     'val': '61'},\n",
       "    {'pred': 'http://www.jcvi.org/cl_ext/mtg_cluster_schema#level1',\n",
       "     'val': 'http://purl.obolibrary.org/obo/cl#CL_0000125'}]}}]"
      ]
     },
     "execution_count": 25,
     "metadata": {},
     "output_type": "execute_result"
    }
   ],
   "source": [
    "[n for n in clusters['nodes'] if n['id'] == 'http://www.jcvi.org/cl_ext/mtg_cluster#pcl_85']\n"
   ]
  },
  {
   "cell_type": "code",
   "execution_count": null,
   "metadata": {},
   "outputs": [],
   "source": []
  }
 ],
 "metadata": {
  "kernelspec": {
   "display_name": "Python 3",
   "language": "python",
   "name": "python3"
  },
  "language_info": {
   "codemirror_mode": {
    "name": "ipython",
    "version": 3
   },
   "file_extension": ".py",
   "mimetype": "text/x-python",
   "name": "python",
   "nbconvert_exporter": "python",
   "pygments_lexer": "ipython3",
   "version": "3.6.2"
  }
 },
 "nbformat": 4,
 "nbformat_minor": 2
}
